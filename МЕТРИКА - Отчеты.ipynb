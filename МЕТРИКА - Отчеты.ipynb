{
 "cells": [
  {
   "cell_type": "code",
   "execution_count": null,
   "metadata": {},
   "outputs": [],
   "source": [
    "!pip install arrow"
   ]
  },
  {
   "cell_type": "code",
   "execution_count": 38,
   "metadata": {},
   "outputs": [],
   "source": [
    "# your id\n",
    "#ym_app_id = '4f8407020ad34dbd8004a7ca4f970e5d'"
   ]
  },
  {
   "cell_type": "code",
   "execution_count": 39,
   "metadata": {},
   "outputs": [],
   "source": [
    "#code_request = f'https://oauth.yandex.ru/authorize?response_type=token&client_id={ym_app_id}'"
   ]
  },
  {
   "cell_type": "code",
   "execution_count": 40,
   "metadata": {},
   "outputs": [
    {
     "name": "stdout",
     "output_type": "stream",
     "text": [
      "https://oauth.yandex.ru/authorize?response_type=token&client_id=4f8407020ad34dbd8004a7ca4f970e5d\n"
     ]
    }
   ],
   "source": [
    "\n",
    "#print(\"Перейти по ссылке:\")\n",
    "#print(code_request)"
   ]
  },
  {
   "cell_type": "code",
   "execution_count": 42,
   "metadata": {},
   "outputs": [],
   "source": [
    "import requests\n",
    "import json\n",
    "import arrow\n",
    "import time"
   ]
  },
  {
   "cell_type": "code",
   "execution_count": 41,
   "metadata": {},
   "outputs": [],
   "source": [
    "#insert token\n",
    "access_token = 'AgAAAAAIQ2KfAAR1yrvY7Q_AM0CooCyGr32uxlI'\n",
    "\n"
   ]
  },
  {
   "cell_type": "code",
   "execution_count": 43,
   "metadata": {},
   "outputs": [],
   "source": [
    "headers = {'Authorization': f'OAuth {access_token}'}"
   ]
  },
  {
   "cell_type": "code",
   "execution_count": 44,
   "metadata": {},
   "outputs": [],
   "source": [
    "# Сохраним в переменную номер искомого счетчика\n",
    "counter_id = int('46151472')"
   ]
  },
  {
   "cell_type": "code",
   "execution_count": 63,
   "metadata": {},
   "outputs": [],
   "source": [
    "# Лимит 20 в запросе\n",
    "my_metrics = [\n",
    "    'ym:s:goal49237321visits',\n",
    "    'ym:s:goal49237324visits',\n",
    "    'ym:s:goal49237327visits',\n",
    "    'ym:s:goal49237330visits'\n",
    "]"
   ]
  },
  {
   "cell_type": "code",
   "execution_count": 64,
   "metadata": {},
   "outputs": [],
   "source": [
    "# Лимит 10 в запросе\n",
    "my_dimension =[ \n",
    "    'ym:s:date',\n",
    "    'ym:s:lastSourceEngine',\n",
    "    'ym:s:lastTrafficSource',\n",
    "    'ym:s:UTMSource',\n",
    "    'ym:s:referer',\n",
    "    'ym:s:UTMMedium'\n",
    "  ]"
   ]
  },
  {
   "cell_type": "code",
   "execution_count": 65,
   "metadata": {},
   "outputs": [],
   "source": [
    "# Даты получения статистики\n",
    "date1 = arrow.get('2019-05-13').format('YYYY-MM-DD')\n",
    "date2 = arrow.get('2019-05-13').format('YYYY-MM-DD')"
   ]
  },
  {
   "cell_type": "code",
   "execution_count": 66,
   "metadata": {},
   "outputs": [
    {
     "data": {
      "text/plain": [
       "'https://api-metrika.yandex.net/stat/v1/data?ids=46151472&metrics=ym:s:goal49237321visits,ym:s:goal49237324visits,ym:s:goal49237327visits,ym:s:goal49237330visits&date1=2019-05-13&date2=2019-05-13&dimensions=ym:s:date,ym:s:lastSourceEngine,ym:s:lastTrafficSource,ym:s:UTMSource,ym:s:referer,ym:s:UTMMedium&oauth_token=AgAAAAAIQ2KfAAR1yrvY7Q_AM0CooCyGr32uxlI'"
      ]
     },
     "execution_count": 66,
     "metadata": {},
     "output_type": "execute_result"
    }
   ],
   "source": [
    "my_metrics_str = ','.join(my_metrics)\n",
    "my_dimension_str = ','.join(my_dimension)\n",
    "\n",
    "\n",
    "url = f'https://api-metrika.yandex.net\\\n",
    "/stat/v1/data?\\\n",
    "ids={counter_id}\\\n",
    "&metrics={my_metrics_str}\\\n",
    "&date1={date1}\\\n",
    "&date2={date2}\\\n",
    "&dimensions={my_dimension_str}\\\n",
    "&oauth_token={access_token}';\n",
    "url"
   ]
  },
  {
   "cell_type": "code",
   "execution_count": 67,
   "metadata": {},
   "outputs": [
    {
     "data": {
      "text/plain": [
       "<Response [200]>"
      ]
     },
     "execution_count": 67,
     "metadata": {},
     "output_type": "execute_result"
    }
   ],
   "source": [
    "logs_resp = requests.get(url,headers=headers)\n",
    "logs_resp"
   ]
  },
  {
   "cell_type": "code",
   "execution_count": 68,
   "metadata": {},
   "outputs": [],
   "source": [
    "if logs_resp.status_code != 200:\n",
    "    raise Exception('Wrong answer, please check you data')"
   ]
  },
  {
   "cell_type": "code",
   "execution_count": null,
   "metadata": {},
   "outputs": [],
   "source": []
  },
  {
   "cell_type": "code",
   "execution_count": 70,
   "metadata": {},
   "outputs": [
    {
     "name": "stdout",
     "output_type": "stream",
     "text": [
      "200\n"
     ]
    },
    {
     "ename": "AttributeError",
     "evalue": "'dict' object has no attribute 'headers'",
     "output_type": "error",
     "traceback": [
      "\u001b[1;31m---------------------------------------------------------------------------\u001b[0m",
      "\u001b[1;31mAttributeError\u001b[0m                            Traceback (most recent call last)",
      "\u001b[1;32m<ipython-input-70-19c23f39996f>\u001b[0m in \u001b[0;36m<module>\u001b[1;34m\u001b[0m\n\u001b[0;32m      3\u001b[0m \u001b[1;33m\u001b[0m\u001b[0m\n\u001b[0;32m      4\u001b[0m \u001b[0mrj\u001b[0m \u001b[1;33m=\u001b[0m \u001b[0mr\u001b[0m\u001b[1;33m.\u001b[0m\u001b[0mjson\u001b[0m\u001b[1;33m(\u001b[0m\u001b[1;33m)\u001b[0m\u001b[1;33m\u001b[0m\u001b[1;33m\u001b[0m\u001b[0m\n\u001b[1;32m----> 5\u001b[1;33m \u001b[0mrj\u001b[0m\u001b[1;33m.\u001b[0m\u001b[0mheaders\u001b[0m\u001b[1;33m(\u001b[0m\u001b[1;33m)\u001b[0m\u001b[1;33m\u001b[0m\u001b[1;33m\u001b[0m\u001b[0m\n\u001b[0m",
      "\u001b[1;31mAttributeError\u001b[0m: 'dict' object has no attribute 'headers'"
     ]
    }
   ],
   "source": [
    "r = requests.get(url, headers=headers)\n",
    "print(r.status_code)\n",
    "\n",
    "rj = r.json()\n",
    "rj.headers()"
   ]
  },
  {
   "cell_type": "code",
   "execution_count": 71,
   "metadata": {},
   "outputs": [
    {
     "ename": "TypeError",
     "evalue": "a bytes-like object is required, not 'str'",
     "output_type": "error",
     "traceback": [
      "\u001b[1;31m---------------------------------------------------------------------------\u001b[0m",
      "\u001b[1;31mTypeError\u001b[0m                                 Traceback (most recent call last)",
      "\u001b[1;32m<ipython-input-71-7ba835e83b4f>\u001b[0m in \u001b[0;36m<module>\u001b[1;34m\u001b[0m\n\u001b[0;32m      1\u001b[0m \u001b[1;32mwith\u001b[0m \u001b[0mopen\u001b[0m\u001b[1;33m(\u001b[0m\u001b[1;34m'ymstat1.csv'\u001b[0m\u001b[1;33m,\u001b[0m \u001b[1;34m'wb'\u001b[0m\u001b[1;33m)\u001b[0m \u001b[1;32mas\u001b[0m \u001b[0mf\u001b[0m\u001b[1;33m:\u001b[0m\u001b[1;33m\u001b[0m\u001b[1;33m\u001b[0m\u001b[0m\n\u001b[0;32m      2\u001b[0m         \u001b[1;32mfor\u001b[0m \u001b[0mline\u001b[0m \u001b[1;32min\u001b[0m \u001b[0mrj\u001b[0m\u001b[1;33m:\u001b[0m\u001b[1;33m\u001b[0m\u001b[1;33m\u001b[0m\u001b[0m\n\u001b[1;32m----> 3\u001b[1;33m             \u001b[0mf\u001b[0m\u001b[1;33m.\u001b[0m\u001b[0mwrite\u001b[0m\u001b[1;33m(\u001b[0m\u001b[0mline\u001b[0m\u001b[1;33m)\u001b[0m\u001b[1;33m\u001b[0m\u001b[1;33m\u001b[0m\u001b[0m\n\u001b[0m",
      "\u001b[1;31mTypeError\u001b[0m: a bytes-like object is required, not 'str'"
     ]
    }
   ],
   "source": [
    "with open('ymstat1.csv', 'wb') as f:\n",
    "        for line in rj:\n",
    "            f.write(line)"
   ]
  },
  {
   "cell_type": "code",
   "execution_count": 56,
   "metadata": {},
   "outputs": [],
   "source": [
    "import pandas as pd"
   ]
  },
  {
   "cell_type": "code",
   "execution_count": 59,
   "metadata": {},
   "outputs": [
    {
     "data": {
      "text/plain": [
       "{'query': {'ids': [46151472],\n",
       "  'dimensions': ['ym:s:goal'],\n",
       "  'metrics': ['ym:s:visits'],\n",
       "  'sort': ['-ym:s:visits'],\n",
       "  'date1': '2019-05-13',\n",
       "  'date2': '2019-05-13',\n",
       "  'limit': 100,\n",
       "  'offset': 1,\n",
       "  'group': 'Week',\n",
       "  'auto_group_size': '1',\n",
       "  'quantile': '50',\n",
       "  'offline_window': '21',\n",
       "  'attribution': 'Last',\n",
       "  'currency': 'RUB',\n",
       "  'adfox_event_id': '0'},\n",
       " 'data': [{'dimensions': [{'name': 'Более 3-х переходов [Вовлечение]',\n",
       "     'id': '33910620'}],\n",
       "   'metrics': [1415.0]},\n",
       "  {'dimensions': [{'name': 'Переход в раздел Планировки [Заинтересованность]',\n",
       "     'id': '33942165'}],\n",
       "   'metrics': [690.0]},\n",
       "  {'dimensions': [{'name': 'Переход в раздел Местоположение [Заинтересованность]',\n",
       "     'id': '33942171'}],\n",
       "   'metrics': [177.0]},\n",
       "  {'dimensions': [{'name': 'Каскадная цель: путь до квартиры',\n",
       "     'id': '49237330'}],\n",
       "   'metrics': [103.0]},\n",
       "  {'dimensions': [{'name': 'Переход в раздел Как купить [Заинтересованность]',\n",
       "     'id': '33942168'}],\n",
       "   'metrics': [96.0]},\n",
       "  {'dimensions': [{'name': 'Переход в раздел Контакты [Обращение]',\n",
       "     'id': '33942162'}],\n",
       "   'metrics': [54.0]},\n",
       "  {'dimensions': [{'name': 'Скачивание PDF-планировки', 'id': '49089646'}],\n",
       "   'metrics': [28.0]},\n",
       "  {'dimensions': [{'name': 'Переход в личный кабинет', 'id': '43404859'}],\n",
       "   'metrics': [19.0]},\n",
       "  {'dimensions': [{'name': 'Звонок Calltouch', 'id': '40267417'}],\n",
       "   'metrics': [2.0]}],\n",
       " 'total_rows': 9,\n",
       " 'total_rows_rounded': False,\n",
       " 'sampled': False,\n",
       " 'sample_share': 1.0,\n",
       " 'sample_size': 1725,\n",
       " 'sample_space': 1725,\n",
       " 'data_lag': 128,\n",
       " 'totals': [1455.0],\n",
       " 'min': [2.0],\n",
       " 'max': [1415.0]}"
      ]
     },
     "execution_count": 59,
     "metadata": {},
     "output_type": "execute_result"
    }
   ],
   "source": [
    "rj"
   ]
  },
  {
   "cell_type": "code",
   "execution_count": null,
   "metadata": {},
   "outputs": [],
   "source": [
    "import pandas as pd"
   ]
  },
  {
   "cell_type": "code",
   "execution_count": null,
   "metadata": {},
   "outputs": [],
   "source": [
    "df = pd.read_csv('ymstat.csv', sep= '\\t')"
   ]
  },
  {
   "cell_type": "code",
   "execution_count": null,
   "metadata": {},
   "outputs": [],
   "source": [
    "df.info(memory_usage='deep')"
   ]
  },
  {
   "cell_type": "code",
   "execution_count": null,
   "metadata": {
    "scrolled": true
   },
   "outputs": [],
   "source": [
    "df.head()"
   ]
  },
  {
   "cell_type": "code",
   "execution_count": null,
   "metadata": {},
   "outputs": [],
   "source": [
    "df['ym:s:dateTime'] =  pd.to_datetime(df['ym:s:dateTime'])"
   ]
  }
 ],
 "metadata": {
  "kernelspec": {
   "display_name": "Python 3",
   "language": "python",
   "name": "python3"
  },
  "language_info": {
   "codemirror_mode": {
    "name": "ipython",
    "version": 3
   },
   "file_extension": ".py",
   "mimetype": "text/x-python",
   "name": "python",
   "nbconvert_exporter": "python",
   "pygments_lexer": "ipython3",
   "version": "3.7.3"
  }
 },
 "nbformat": 4,
 "nbformat_minor": 2
}
