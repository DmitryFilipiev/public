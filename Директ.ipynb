{
 "cells": [
  {
   "cell_type": "code",
   "execution_count": 1,
   "metadata": {},
   "outputs": [
    {
     "name": "stdout",
     "output_type": "stream",
     "text": [
      "Requirement already satisfied: arrow in c:\\users\\filipiev\\appdata\\local\\continuum\\anaconda3\\lib\\site-packages (0.13.1)\n",
      "Requirement already satisfied: python-dateutil in c:\\users\\filipiev\\appdata\\local\\continuum\\anaconda3\\lib\\site-packages (from arrow) (2.8.0)\n",
      "Requirement already satisfied: six>=1.5 in c:\\users\\filipiev\\appdata\\local\\continuum\\anaconda3\\lib\\site-packages (from python-dateutil->arrow) (1.12.0)\n"
     ]
    }
   ],
   "source": [
    "!pip install arrow"
   ]
  },
  {
   "cell_type": "code",
   "execution_count": 1,
   "metadata": {},
   "outputs": [],
   "source": [
    "# your id\n",
    "ym_app_id = 'a746048edf594f238083f56a028da76a'"
   ]
  },
  {
   "cell_type": "code",
   "execution_count": 2,
   "metadata": {},
   "outputs": [],
   "source": [
    "code_request = f'https://oauth.yandex.ru/authorize?response_type=token&client_id={ym_app_id}'"
   ]
  },
  {
   "cell_type": "code",
   "execution_count": 3,
   "metadata": {},
   "outputs": [
    {
     "name": "stdout",
     "output_type": "stream",
     "text": [
      "https://oauth.yandex.ru/authorize?response_type=token&client_id=a746048edf594f238083f56a028da76a\n"
     ]
    }
   ],
   "source": [
    "\n",
    "#print(\"Перейти по ссылке:\")\n",
    "print(code_request)"
   ]
  },
  {
   "cell_type": "code",
   "execution_count": 4,
   "metadata": {},
   "outputs": [],
   "source": [
    "import requests\n",
    "import json\n",
    "import arrow\n",
    "from requests.exceptions import ConnectionError\n",
    "from time import sleep\n"
   ]
  },
  {
   "cell_type": "code",
   "execution_count": 5,
   "metadata": {},
   "outputs": [],
   "source": [
    "import sys\n",
    "\n",
    "if sys.version_info < (3,):\n",
    "    def u(x):\n",
    "        try:\n",
    "            return x.encode(\"utf8\")\n",
    "        except UnicodeDecodeError:\n",
    "            return x\n",
    "else:\n",
    "    def u(x):\n",
    "        if type(x) == type(b''):\n",
    "            return x.decode('utf8')\n",
    "        else:\n",
    "            return x"
   ]
  },
  {
   "cell_type": "code",
   "execution_count": 6,
   "metadata": {},
   "outputs": [],
   "source": [
    "CampaignsURL = 'https://api.direct.yandex.com/json/v5/campaigns'"
   ]
  },
  {
   "cell_type": "code",
   "execution_count": 7,
   "metadata": {},
   "outputs": [],
   "source": [
    "#insert token\n",
    "token = 'AgAAAAAIQ2KfAASlbI-LIUa2NE6Uvkr3rAs9_m0'\n",
    "clientLogin = 'BannersA101'"
   ]
  },
  {
   "cell_type": "code",
   "execution_count": 8,
   "metadata": {},
   "outputs": [],
   "source": [
    "headers = {\"Authorization\": \"Bearer \" + token,  # OAuth-токен. Использование слова Bearer обязательно\n",
    "           \"Client-Login\": clientLogin,  # Логин клиента рекламного агентства\n",
    "           \"Accept-Language\": \"ru\",  # Язык ответных сообщений\n",
    "           }"
   ]
  },
  {
   "cell_type": "code",
   "execution_count": 9,
   "metadata": {},
   "outputs": [],
   "source": [
    "body = {\"method\": \"get\",  # Используемый метод.\n",
    "        \"params\": {\"SelectionCriteria\": {},  # Критерий отбора кампаний. Для получения всех кампаний должен быть пустым\n",
    "                   \"FieldNames\": [\"Id\", \"Name\"]  # Имена параметров, которые требуется получить.\n",
    "                   }}"
   ]
  },
  {
   "cell_type": "code",
   "execution_count": 10,
   "metadata": {},
   "outputs": [],
   "source": [
    "jsonBody = json.dumps(body, ensure_ascii=False).encode('utf8')"
   ]
  },
  {
   "cell_type": "code",
   "execution_count": 11,
   "metadata": {},
   "outputs": [
    {
     "name": "stdout",
     "output_type": "stream",
     "text": [
      "Произошла ошибка при обращении к серверу API Директа.\n",
      "Код ошибки: 58\n",
      "Описание ошибки: Необходимо заполнить для приложения заявку на доступ в интерфейсе Директа и дождаться её подтверждения\n",
      "RequestId: 8163873532122536986\n"
     ]
    }
   ],
   "source": [
    "try:\n",
    "    result = requests.post(CampaignsURL, jsonBody, headers=headers)\n",
    "\n",
    "    # Отладочная информация\n",
    "    # print(\"Заголовки запроса: {}\".format(result.request.headers))\n",
    "    # print(\"Запрос: {}\".format(u(result.request.body)))\n",
    "    # print(\"Заголовки ответа: {}\".format(result.headers))\n",
    "    # print(\"Ответ: {}\".format(u(result.text)))\n",
    "    # print(\"\\n\")\n",
    "\n",
    "    # Обработка запроса\n",
    "    if result.status_code != 200 or result.json().get(\"error\", False):\n",
    "        print(\"Произошла ошибка при обращении к серверу API Директа.\")\n",
    "        print(\"Код ошибки: {}\".format(result.json()[\"error\"][\"error_code\"]))\n",
    "        print(\"Описание ошибки: {}\".format(u(result.json()[\"error\"][\"error_detail\"])))\n",
    "        print(\"RequestId: {}\".format(result.headers.get(\"RequestId\", False)))\n",
    "    else:\n",
    "        print(\"RequestId: {}\".format(result.headers.get(\"RequestId\", False)))\n",
    "        print(\"Информация о баллах: {}\".format(result.headers.get(\"Units\", False)))\n",
    "        # Вывод списка кампаний\n",
    "        for campaign in result.json()[\"result\"][\"Campaigns\"]:\n",
    "            print(\"Рекламная кампания: {} №{}\".format(u(campaign['Name']), campaign['Id']))\n",
    "\n",
    "        if result.json()['result'].get('LimitedBy', False):\n",
    "            # Если ответ содержит параметр LimitedBy, значит,  были получены не все доступные объекты.\n",
    "            # В этом случае следует выполнить дополнительные запросы для получения всех объектов.\n",
    "            # Подробное описание постраничной выборки - https://tech.yandex.ru/direct/doc/dg/best-practice/get-docpage/#page\n",
    "            print(\"Получены не все доступные объекты.\")\n",
    "\n",
    "\n",
    "# Обработка ошибки, если не удалось соединиться с сервером API Директа\n",
    "except ConnectionError:\n",
    "    # В данном случае мы рекомендуем повторить запрос позднее\n",
    "    print(\"Произошла ошибка соединения с сервером API.\")\n",
    "\n",
    "# Если возникла какая-либо другая ошибка\n",
    "except:\n",
    "    # В данном случае мы рекомендуем проанализировать действия приложения\n",
    "    print(\"Произошла непредвиденная ошибка.\")"
   ]
  },
  {
   "cell_type": "code",
   "execution_count": null,
   "metadata": {},
   "outputs": [],
   "source": []
  }
 ],
 "metadata": {
  "kernelspec": {
   "display_name": "Python 3",
   "language": "python",
   "name": "python3"
  },
  "language_info": {
   "codemirror_mode": {
    "name": "ipython",
    "version": 3
   },
   "file_extension": ".py",
   "mimetype": "text/x-python",
   "name": "python",
   "nbconvert_exporter": "python",
   "pygments_lexer": "ipython3",
   "version": "3.7.3"
  }
 },
 "nbformat": 4,
 "nbformat_minor": 2
}
